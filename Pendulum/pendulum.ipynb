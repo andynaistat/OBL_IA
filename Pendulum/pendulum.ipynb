{
 "cells": [
  {
   "cell_type": "markdown",
   "metadata": {},
   "source": [
    "## Pendulum con Q-learning"
   ]
  },
  {
   "cell_type": "code",
   "execution_count": 28,
   "metadata": {},
   "outputs": [],
   "source": [
    "import numpy as np\n",
    "from pendulum_env_extended import PendulumEnvExtended\n",
    "import random\n",
    "import wandb\n",
    "from IPython import display\n",
    "import matplotlib.pyplot as plt\n",
    "import sys\n",
    "import os\n",
    "import imageio\n",
    "\n",
    "sys.path.append(os.path.abspath('../Models'))\n",
    "from model_manager import ModelManager"
   ]
  },
  {
   "cell_type": "markdown",
   "metadata": {},
   "source": [
    "Inicializar ambiente"
   ]
  },
  {
   "cell_type": "code",
   "execution_count": 29,
   "metadata": {},
   "outputs": [],
   "source": [
    "env = PendulumEnvExtended(render_mode='rgb_array')"
   ]
  },
  {
   "cell_type": "markdown",
   "metadata": {},
   "source": [
    "Discretización de los estados"
   ]
  },
  {
   "cell_type": "code",
   "execution_count": 30,
   "metadata": {},
   "outputs": [],
   "source": [
    "x_space = np.linspace(-1, 1, 10)\n",
    "y_space = np.linspace(-1, 1, 10)\n",
    "vel_space = np.linspace(-8, 8, 50)"
   ]
  },
  {
   "cell_type": "markdown",
   "metadata": {},
   "source": [
    "Obtener el estado a partir de la observación"
   ]
  },
  {
   "cell_type": "code",
   "execution_count": 31,
   "metadata": {},
   "outputs": [],
   "source": [
    "def get_state(obs):\n",
    "    x, y, vel = obs\n",
    "    x_bin = np.digitize(x, x_space)\n",
    "    y_bin = np.digitize(y, y_space)\n",
    "    vel_bin = np.digitize(vel, vel_space)\n",
    "    return x_bin, y_bin, vel_bin"
   ]
  },
  {
   "cell_type": "code",
   "execution_count": 32,
   "metadata": {},
   "outputs": [],
   "source": [
    "state = get_state(np.array([-0.4, 0.2, 0.3]))"
   ]
  },
  {
   "cell_type": "markdown",
   "metadata": {},
   "source": [
    "Discretización de las acciones"
   ]
  },
  {
   "cell_type": "code",
   "execution_count": 33,
   "metadata": {},
   "outputs": [],
   "source": [
    "actions = list(np.linspace(-2, 2, 10))"
   ]
  },
  {
   "cell_type": "code",
   "execution_count": 34,
   "metadata": {},
   "outputs": [],
   "source": [
    "def get_sample_action():\n",
    "    return random.choice(actions)"
   ]
  },
  {
   "cell_type": "markdown",
   "metadata": {},
   "source": [
    "Inicilización de la tabla Q"
   ]
  },
  {
   "cell_type": "code",
   "execution_count": 35,
   "metadata": {},
   "outputs": [],
   "source": [
    "Q = np.zeros((len(x_space) + 1, len(y_space) + 1, len(vel_space) + 1, len(actions)))"
   ]
  },
  {
   "cell_type": "markdown",
   "metadata": {},
   "source": [
    "Obtención de la acción a partir de la tabla Q"
   ]
  },
  {
   "cell_type": "code",
   "execution_count": null,
   "metadata": {},
   "outputs": [],
   "source": [
    "def optimal_policy(state, Q):\n",
    "    action = actions[np.argmax(Q[state])]\n",
    "    return action"
   ]
  },
  {
   "cell_type": "markdown",
   "metadata": {},
   "source": [
    "Epsilon-Greedy Policy"
   ]
  },
  {
   "cell_type": "code",
   "execution_count": null,
   "metadata": {},
   "outputs": [],
   "source": [
    "def epsilon_greedy_policy(state, Q, epsilon=0.1):\n",
    "    explore = np.random.binomial(1, epsilon)\n",
    "    if explore:\n",
    "        action = get_sample_action()\n",
    "        print('explore')\n",
    "    else:\n",
    "        action = optimal_policy(state, Q)\n",
    "        print('exploit')\n",
    "        \n",
    "    return action"
   ]
  },
  {
   "cell_type": "markdown",
   "metadata": {},
   "source": [
    "Registro con Wandb"
   ]
  },
  {
   "cell_type": "code",
   "execution_count": null,
   "metadata": {},
   "outputs": [],
   "source": [
    "wandb.login()"
   ]
  },
  {
   "cell_type": "markdown",
   "metadata": {},
   "source": [
    "Función de entrenamiento"
   ]
  },
  {
   "cell_type": "code",
   "execution_count": 26,
   "metadata": {},
   "outputs": [],
   "source": [
    "def train(env, Q, alpha=0.1, gamma=0.9, epsilon=0.1, epsilon_min=0.01, epsilon_decay=0.995, episodes=100):\n",
    "    for i in range(episodes):\n",
    "        obs,_ = env.reset()\n",
    "        done = False\n",
    "        total_reward = 0\n",
    "        state = get_state(obs)\n",
    "        \n",
    "        while not done:\n",
    "            action = epsilon_greedy_policy(state, Q, epsilon)\n",
    "            \n",
    "            action_idx = actions.index(action)\n",
    "            \n",
    "            real_action = np.array([action])\n",
    "            \n",
    "            obs, reward, done, _, _ = env.step(real_action)\n",
    "            next_state = get_state(obs)\n",
    "            \n",
    "            Q[state][action_idx] += alpha * (reward + gamma * np.max(Q[next_state]) - Q[state][action_idx])\n",
    "            \n",
    "            state = next_state\n",
    "            total_reward += reward\n",
    "        \n",
    "        # Reducir epsilon\n",
    "        epsilon = max(epsilon_min, epsilon * epsilon_decay)\n",
    "        \n",
    "        wandb.log({'episode': i, 'total_reward': total_reward, 'epsilon': epsilon, \"avg_q_value\": np.mean(Q), \"reward\": reward})"
   ]
  },
  {
   "cell_type": "markdown",
   "metadata": {},
   "source": [
    "Probar el agente"
   ]
  },
  {
   "cell_type": "code",
   "execution_count": null,
   "metadata": {},
   "outputs": [],
   "source": [
    "obs,_ = env.reset()\n",
    "done = False\n",
    "\n",
    "# Configurar el gráfico para visualizar el entorno\n",
    "# fig = plt.figure()\n",
    "# img = plt.imshow(env.render(mode='rgb_array'))\n",
    "\n",
    "while not done:\n",
    "    state = obs\n",
    "    action = optimal_policy(get_state(obs), Q)\n",
    "    obs, reward, done, _, _ = env.step(np.array([action]))\n",
    "    \n",
    "    # img.set_data(env.render())\n",
    "    # display.display(plt.gcf())\n",
    "    # display.clear_output(wait=True)"
   ]
  },
  {
   "cell_type": "markdown",
   "metadata": {},
   "source": [
    "Ejecución individual"
   ]
  },
  {
   "cell_type": "code",
   "execution_count": null,
   "metadata": {},
   "outputs": [],
   "source": [
    "wandb.init(\n",
    "    project=\"pendulum\",\n",
    "\n",
    "    config={\n",
    "    \"alpha\": 0.3,\n",
    "    \"gamma\": 0.9,\n",
    "    \"epsilon\": 0.3,\n",
    "    \"epochs\": 1000,\n",
    "    \"epsilon_min\":0.01, \n",
    "    \"epsilon_decay\":0.995\n",
    "    }\n",
    ")\n",
    "\n",
    "train(env, Q, wandb.config.alpha, wandb.config.gamma, wandb.config.epsilon, wandb.config.epsilon_min, wandb.config.epsilon_decay, wandb.config.epochs)\n",
    "\n",
    "wandb.finish()"
   ]
  },
  {
   "cell_type": "markdown",
   "metadata": {},
   "source": [
    "Ejecución múltiple con sweep"
   ]
  },
  {
   "cell_type": "code",
   "execution_count": null,
   "metadata": {},
   "outputs": [],
   "source": [
    "sweep_config = {\n",
    "    'method': 'grid',\n",
    "    'metric': {\n",
    "        'name': 'reward',\n",
    "        'goal': 'maximize'\n",
    "    },\n",
    "    'parameters': {\n",
    "        'alpha': {\n",
    "            'values': [0.1, 0.2, 0.3]\n",
    "        },\n",
    "        'gamma': {\n",
    "            'values': [0.8, 0.9, 1.0]\n",
    "        },\n",
    "        'epsilon': {\n",
    "            'values': [0.1, 0.3, 0.5]\n",
    "        },\n",
    "        'epochs': {\n",
    "            'values': [500, 1000]\n",
    "        },\n",
    "        'epsilon_min': {\n",
    "            'values': [0.01]\n",
    "        },\n",
    "        'epsilon_decay': {\n",
    "            'values': [0.995]\n",
    "        }\n",
    "    }\n",
    "}\n",
    "\n",
    "sweep_id = wandb.sweep(sweep_config, project=\"taxi\")\n",
    "\n",
    "def train_sweep():\n",
    "    wandb.init()\n",
    "    \n",
    "    config = wandb.config\n",
    "    \n",
    "    train(env, Q, config.alpha, config.gamma, config.epsilon, config.epsilon_min, config.epsilon_decay, config.epochs)\n",
    "    \n",
    "    wandb.finish()\n",
    "\n",
    "wandb.agent(sweep_id, function=train_sweep)"
   ]
  },
  {
   "cell_type": "markdown",
   "metadata": {},
   "source": [
    "Guardar modelo entrenado"
   ]
  },
  {
   "cell_type": "code",
   "execution_count": 36,
   "metadata": {},
   "outputs": [],
   "source": [
    "manager = ModelManager()\n",
    "manager.save_model('pendulum', Q)"
   ]
  },
  {
   "cell_type": "markdown",
   "metadata": {},
   "source": [
    "Cargar modelo entrenado"
   ]
  },
  {
   "cell_type": "code",
   "execution_count": null,
   "metadata": {},
   "outputs": [],
   "source": [
    "manager = ModelManager()\n",
    "model = manager.load_model('pendulum')"
   ]
  },
  {
   "cell_type": "markdown",
   "metadata": {},
   "source": [
    "Grabar video"
   ]
  },
  {
   "cell_type": "code",
   "execution_count": null,
   "metadata": {},
   "outputs": [],
   "source": [
    "def save_video(env, Q, video_name, num_episodes=1, fps=10):\n",
    "    frames = []\n",
    "\n",
    "    for _ in range(num_episodes):\n",
    "        obs, _ = env.reset()\n",
    "        done = False\n",
    "        while not done:\n",
    "            state = get_state(obs)\n",
    "            action = optimal_policy(state, Q)\n",
    "            obs, reward, done, _, _ = env.step(np.array([action]))\n",
    "            frames.append(env.render())\n",
    "\n",
    "    # Guardar los frames como un video\n",
    "    imageio.mimsave(video_name, frames, fps=fps)"
   ]
  },
  {
   "cell_type": "code",
   "execution_count": null,
   "metadata": {},
   "outputs": [],
   "source": [
    "env = PendulumEnvExtended(render_mode='rgb_array')\n",
    "\n",
    "save_video(env, Q, 'pendulum.mp4', num_episodes=1, fps=40)"
   ]
  },
  {
   "cell_type": "markdown",
   "metadata": {},
   "source": [
    "Cargar video a Wandb"
   ]
  },
  {
   "cell_type": "code",
   "execution_count": null,
   "metadata": {},
   "outputs": [],
   "source": [
    "import wandb\n",
    "\n",
    "wandb.init(project='pendulum')\n",
    "\n",
    "video_name = 'pendulum.mp4'\n",
    "\n",
    "wandb.log({\"Pendulum execution\": wandb.Video(video_name, fps=40, format=\"mp4\")})\n",
    "\n",
    "wandb.finish()"
   ]
  }
 ],
 "metadata": {
  "kernelspec": {
   "display_name": "Python 3",
   "language": "python",
   "name": "python3"
  },
  "language_info": {
   "codemirror_mode": {
    "name": "ipython",
    "version": 3
   },
   "file_extension": ".py",
   "mimetype": "text/x-python",
   "name": "python",
   "nbconvert_exporter": "python",
   "pygments_lexer": "ipython3",
   "version": "3.12.2"
  },
  "orig_nbformat": 4
 },
 "nbformat": 4,
 "nbformat_minor": 2
}
