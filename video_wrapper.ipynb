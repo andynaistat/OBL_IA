{
 "cells": [
  {
   "cell_type": "markdown",
   "metadata": {},
   "source": [
    "### Paquetes requeridos"
   ]
  },
  {
   "cell_type": "code",
   "execution_count": null,
   "metadata": {},
   "outputs": [],
   "source": [
    "#!pip install gymnasium\n",
    "#!pip install pyvirtualdisplay\n",
    "#!pip install moviepy"
   ]
  },
  {
   "cell_type": "markdown",
   "metadata": {},
   "source": [
    "### Imports"
   ]
  },
  {
   "cell_type": "code",
   "execution_count": null,
   "metadata": {},
   "outputs": [],
   "source": [
    "import glob\n",
    "import io\n",
    "import base64\n",
    "import gymnasium\n",
    "\n",
    "from gymnasium.wrappers.record_video import RecordVideo\n",
    "from IPython.display import HTML\n",
    "from IPython import display as ipythondisplay"
   ]
  },
  {
   "cell_type": "markdown",
   "metadata": {},
   "source": [
    "### Funciones para grabar y mostrar video"
   ]
  },
  {
   "cell_type": "code",
   "execution_count": null,
   "metadata": {},
   "outputs": [],
   "source": [
    "def show_video():\n",
    "    \"\"\"\n",
    "    Utility function to enable video recording of gym environment and displaying it\n",
    "    To enable video, just do \"env = wrap_env(env)\"\"\n",
    "    \"\"\"\n",
    "    mp4list = glob.glob('video/*.mp4')\n",
    "    if len(mp4list) > 0:\n",
    "        mp4 = mp4list[0]\n",
    "        video = io.open(mp4, 'r+b').read()\n",
    "        encoded = base64.b64encode(video)\n",
    "        ipythondisplay.display(HTML(data='''<video alt=\"test\" autoplay \n",
    "                    loop controls style=\"height: 400px;\">\n",
    "                    <source src=\"data:video/mp4;base64,{0}\" type=\"video/mp4\" />\n",
    "                 </video>'''.format(encoded.decode('ascii'))))\n",
    "    else: \n",
    "        print(\"Could not find video\")\n",
    "    \n",
    "     \n",
    "def wrap_env(env, name=\"default\"):\n",
    "    \"\"\"\n",
    "    Wrapper del ambiente donde definimos un Monitor que guarda la visualizacion como un archivo de video.\n",
    "    \"\"\"\n",
    "    env = RecordVideo(env, \"./video/\", name_prefix=name, episode_trigger=lambda x: x % 2 == 0)\n",
    "    return env"
   ]
  },
  {
   "cell_type": "markdown",
   "metadata": {},
   "source": [
    "### Creamos el ambiente"
   ]
  },
  {
   "cell_type": "code",
   "execution_count": null,
   "metadata": {},
   "outputs": [],
   "source": [
    "ENV_NAME = \"Pendulum-v1\"\n",
    "env = wrap_env(gymnasium.make(ENV_NAME, render_mode=\"rgb_array\"))"
   ]
  },
  {
   "cell_type": "markdown",
   "metadata": {},
   "source": [
    "### Creamos un agente random\n",
    "\n",
    "En este paso van a tener que sustitir con su agente"
   ]
  },
  {
   "cell_type": "code",
   "execution_count": null,
   "metadata": {},
   "outputs": [],
   "source": [
    "class RandomAgent:\n",
    "    def __init__(self, env):\n",
    "        self.env = env\n",
    "    \n",
    "    def select_action(self, state):\n",
    "        return self.env.action_space.sample()\n",
    "    \n",
    "agent = RandomAgent(env)"
   ]
  },
  {
   "cell_type": "markdown",
   "metadata": {},
   "source": [
    "### Hacemos una corrida y grabamos"
   ]
  },
  {
   "cell_type": "code",
   "execution_count": null,
   "metadata": {},
   "outputs": [],
   "source": [
    "acumulated_reward = 0\n",
    "observation,_ = env.reset()\n",
    "while True:\n",
    "    env.render()\n",
    "\n",
    "    action = agent.select_action(observation)\n",
    "    observation, reward, done, truncated, _ = env.step(action)\n",
    "    acumulated_reward += reward\n",
    "    if done or truncated:\n",
    "      break\n",
    "\n",
    "print(f\"Acumulated reward: {acumulated_reward}\")\n",
    "\n",
    "# Cerramos la conexion con el Monitor de ambiente y mostramos el video.\n",
    "env.close()\n",
    "show_video()\n",
    "\n",
    "del env"
   ]
  },
  {
   "cell_type": "markdown",
   "metadata": {},
   "source": [
    "Para agregar WandB solamente tienen que guardar el video como un artefacto. Y le pasan el path al video.\n",
    "\n",
    "En este link pueden encontrar la documentación para hacer eso. https://docs.wandb.ai/ref/python/data-types/video\n",
    "\n",
    "De igual forma les dejo un ejemplo:"
   ]
  },
  {
   "cell_type": "code",
   "execution_count": null,
   "metadata": {},
   "outputs": [],
   "source": [
    "wandb.log({\"Video\": wandb.Video(video_path, fps=4, format=\"mp4\")})"
   ]
  }
 ],
 "metadata": {
  "kernelspec": {
   "display_name": "Python 3",
   "language": "python",
   "name": "python3"
  },
  "language_info": {
   "codemirror_mode": {
    "name": "ipython",
    "version": 3
   },
   "file_extension": ".py",
   "mimetype": "text/x-python",
   "name": "python",
   "nbconvert_exporter": "python",
   "pygments_lexer": "ipython3",
   "version": "3.9.13"
  }
 },
 "nbformat": 4,
 "nbformat_minor": 2
}
