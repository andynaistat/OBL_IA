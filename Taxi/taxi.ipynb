{
 "cells": [
  {
   "cell_type": "markdown",
   "metadata": {},
   "source": [
    "Esta notebook contiene bloques de código útiles para realizar Q-learning en el entorno \"Taxi\""
   ]
  },
  {
   "cell_type": "code",
   "execution_count": null,
   "metadata": {},
   "outputs": [],
   "source": [
    "#!pip install gymnasium\n",
    "#!pip install gymnasium[toy-text]\n",
    "#!pip install scikit-learn\n",
    "import numpy as np\n",
    "from taxi_env_extended import TaxiEnvExtended"
   ]
  },
  {
   "cell_type": "code",
   "execution_count": null,
   "metadata": {},
   "outputs": [],
   "source": [
    "env = TaxiEnvExtended()"
   ]
  },
  {
   "cell_type": "markdown",
   "metadata": {},
   "source": [
    "Obtener la cantidad de estados y acciones"
   ]
  },
  {
   "cell_type": "code",
   "execution_count": null,
   "metadata": {},
   "outputs": [],
   "source": [
    "actions = env.action_space.n\n",
    "states = env.observation_space.n"
   ]
  },
  {
   "cell_type": "markdown",
   "metadata": {},
   "source": [
    "Inicialización de la tabla Q"
   ]
  },
  {
   "cell_type": "code",
   "execution_count": null,
   "metadata": {},
   "outputs": [],
   "source": [
    "Q = np.zeros((states, actions))\n",
    "Q"
   ]
  },
  {
   "cell_type": "markdown",
   "metadata": {},
   "source": [
    "Obtención de la acción a partir de la tabla Q"
   ]
  },
  {
   "cell_type": "code",
   "execution_count": null,
   "metadata": {},
   "outputs": [],
   "source": [
    "def optimal_policy(state, Q):\n",
    "    action = np.argmax(Q[state])\n",
    "    return action\n",
    "\n",
    "# es la acción que maximiza el valor de Q para un estado dado\n",
    "# vamos a tener 500 observaciones, cada una con 6 acciones posibles \n",
    "# (norte, sur, este, oeste, recoger, dejar)\n",
    "# para cada observación, vamos a tener el Q con las 6 acciones posibles\n",
    "# entonces agarramos el máximo de las 6 acciones posibles para cada observación"
   ]
  },
  {
   "cell_type": "markdown",
   "metadata": {},
   "source": [
    "Epsilon-Greedy Policy"
   ]
  },
  {
   "cell_type": "code",
   "execution_count": null,
   "metadata": {},
   "outputs": [],
   "source": [
    "def epsilon_greedy_policy(state, Q, epsilon=0.1):\n",
    "    explore = np.random.binomial(1, epsilon)\n",
    "    if explore:\n",
    "        action = env.action_space.sample()\n",
    "        print('explore')\n",
    "    # exploit\n",
    "    else:\n",
    "        action = np.argmax(Q[state])\n",
    "        print('exploit')\n",
    "        \n",
    "    return action\n",
    "\n",
    "# con cierta probabilidad exploramos y con cierta probabilidad explotamos\n",
    "# si exploramos, tomamos una acción aleatoria\n",
    "# si explotamos, tomamos la acción que maximiza el valor de Q para ese estado (lo mismo que optimal_policy)"
   ]
  },
  {
   "cell_type": "code",
   "execution_count": null,
   "metadata": {},
   "outputs": [],
   "source": [
    "import matplotlib.pyplot as plt\n",
    "from PIL import Image\n",
    "\n",
    "def imgRender():\n",
    "    img = env.render()\n",
    "    plt.imshow(img)\n",
    "    plt.axis('off')\n",
    "    plt.show()\n",
    "    #img_pil = Image.fromarray(img)\n",
    "    #img_pil.save('images/image_{step}.png')\n"
   ]
  },
  {
   "cell_type": "markdown",
   "metadata": {},
   "source": [
    "Ejemplo de episodio "
   ]
  },
  {
   "cell_type": "code",
   "execution_count": null,
   "metadata": {},
   "outputs": [],
   "source": [
    "# training function\n",
    "import wandb\n",
    "def train(env, Q, alpha=0.1, gamma=0.9, epsilon=0.1, episodes=10):\n",
    "    for i in range(episodes):\n",
    "        obs,_ = env.reset()\n",
    "        print(obs)\n",
    "        done = False\n",
    "        total_reward = 0\n",
    "        step_count = 0\n",
    "        while not done:\n",
    "            state = obs\n",
    "            action = epsilon_greedy_policy(state, Q, epsilon)\n",
    "            obs, reward, done, _, _ = env.step(action)\n",
    "            total_reward += reward\n",
    "            step_count += 1\n",
    "            Q[state, action] = Q[state, action] + alpha * (reward + gamma * np.max(Q[obs]) - Q[state, action])\n",
    "            print('->', state, action, reward, obs, done)\n",
    "\n",
    "        wandb.log({\"total_reward\": total_reward, \"avg_q_value\": np.mean(Q)})\n",
    "        \n",
    "        print('episode', i)\n",
    "        print('total_reward', total_reward)\n",
    "        print('total_steps', step_count)\n",
    "\n",
    "# para probar el agente se usa optimal_policy, el epsilon_greedy_policy es solo para entrenar\n",
    "# el objetivo es primero entrenar y después probar.\n",
    "\n",
    "# es bueno separar el código de Q-Learning en un archivo aparte y después importarlo para Taxi y péndulo\n",
    "# porque una parte de la experimentación es cambiar parámetros y ver cómo cambia el comportamiento del agente\n",
    "# ir guardando cada experimentación en un archivo aparte para después comparar resultados"
   ]
  },
  {
   "cell_type": "code",
   "execution_count": null,
   "metadata": {},
   "outputs": [],
   "source": [
    "# test the agent\n",
    "#obs,_ = env.reset()\n",
    "#done = False\n",
    "#while not done:\n",
    "#    state = obs\n",
    "#    action = optimal_policy(state, Q)\n",
    "#    obs, reward, done, _, _ = env.step(action)\n",
    "#    imgRender()\n",
    "#    print('->', state, action, reward, obs, done)"
   ]
  },
  {
   "cell_type": "code",
   "execution_count": null,
   "metadata": {},
   "outputs": [],
   "source": [
    "#!pip install wandb"
   ]
  },
  {
   "cell_type": "code",
   "execution_count": null,
   "metadata": {},
   "outputs": [],
   "source": [
    "import wandb\n",
    "\n",
    "wandb.login()"
   ]
  },
  {
   "cell_type": "code",
   "execution_count": null,
   "metadata": {},
   "outputs": [],
   "source": [
    "# inicializar la corrida\n",
    "wandb.init(\n",
    "    # establecer el nombre del proyecto\n",
    "    project=\"taxi\",\n",
    "\n",
    "    # establecer hiperparámetros\n",
    "    config={\n",
    "    \"alpha\": 0.3,\n",
    "    \"gamma\": 0.9,\n",
    "    \"epsilon\": 0.5,\n",
    "    \"epochs\": 10000,\n",
    "    }\n",
    ")\n",
    "\n",
    "# entrenar el agente\n",
    "train(env, Q, wandb.config.alpha, wandb.config.gamma, wandb.config.epsilon, wandb.config.epochs)\n",
    "\n",
    "\n",
    "# finalizar la corrida\n",
    "wandb.finish()"
   ]
  },
  {
   "cell_type": "code",
   "execution_count": null,
   "metadata": {},
   "outputs": [],
   "source": [
    "import pickle\n",
    "from sklearn.linear_model import LinearRegression\n",
    "from sklearn.datasets import make_regression\n",
    "\n",
    "# Guardar el modelo en un archivo .pkl\n",
    "with open('taxi.pkl', 'wb') as archivo:\n",
    "    pickle.dump(Q, archivo)\n",
    "\n",
    "print(\"Modelo guardado en 'modelo.pkl'\")\n"
   ]
  },
  {
   "cell_type": "code",
   "execution_count": null,
   "metadata": {},
   "outputs": [],
   "source": [
    "# Cargar el modelo desde el archivo .pkl\n",
    "with open('modelo.pkl', 'rb') as archivo:\n",
    "    modelo_cargado = pickle.load(archivo)\n",
    "\n",
    "# Usar el modelo cargado para hacer predicciones\n",
    "obs,_ = env.reset()\n",
    "done = False\n",
    "while not done:\n",
    "    state = obs\n",
    "    action = optimal_policy(state, modelo_cargado)\n",
    "    obs, reward, done, _, _ = env.step(action)\n",
    "    imgRender()\n",
    "    print('->', state, action, reward, obs, done)\n"
   ]
  }
 ],
 "metadata": {
  "kernelspec": {
   "display_name": "Python 3",
   "language": "python",
   "name": "python3"
  },
  "language_info": {
   "codemirror_mode": {
    "name": "ipython",
    "version": 3
   },
   "file_extension": ".py",
   "mimetype": "text/x-python",
   "name": "python",
   "nbconvert_exporter": "python",
   "pygments_lexer": "ipython3",
   "version": "3.12.2"
  },
  "orig_nbformat": 4
 },
 "nbformat": 4,
 "nbformat_minor": 2
}
