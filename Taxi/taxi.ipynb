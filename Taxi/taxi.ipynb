{
 "cells": [
  {
   "cell_type": "markdown",
   "metadata": {},
   "source": [
    "Esta notebook contiene bloques de código útiles para realizar Q-learning en el entorno \"Taxi\""
   ]
  },
  {
   "cell_type": "code",
   "execution_count": 2,
   "metadata": {},
   "outputs": [],
   "source": [
    "#!pip install gymnasium\n",
    "#!pip install gymnasium[toy-text]\n",
    "#!pip install scikit-learn\n",
    "#!pip install wandb\n",
    "# !pip install imageio\n",
    "import numpy as np\n",
    "from taxi_env_extended import TaxiEnvExtended\n",
    "import matplotlib.pyplot as plt\n",
    "import wandb\n",
    "import sys\n",
    "import os\n",
    "import imageio\n",
    "\n",
    "sys.path.append(os.path.abspath('../Models'))\n",
    "from model_manager import ModelManager"
   ]
  },
  {
   "cell_type": "markdown",
   "metadata": {},
   "source": [
    "Inicializar ambiente"
   ]
  },
  {
   "cell_type": "code",
   "execution_count": null,
   "metadata": {},
   "outputs": [],
   "source": [
    "env = TaxiEnvExtended()"
   ]
  },
  {
   "cell_type": "markdown",
   "metadata": {},
   "source": [
    "Obtener la cantidad de estados y acciones"
   ]
  },
  {
   "cell_type": "code",
   "execution_count": null,
   "metadata": {},
   "outputs": [],
   "source": [
    "actions = env.action_space.n\n",
    "states = env.observation_space.n"
   ]
  },
  {
   "cell_type": "markdown",
   "metadata": {},
   "source": [
    "Inicialización de la tabla Q"
   ]
  },
  {
   "cell_type": "code",
   "execution_count": null,
   "metadata": {},
   "outputs": [],
   "source": [
    "Q = np.zeros((states, actions))"
   ]
  },
  {
   "cell_type": "markdown",
   "metadata": {},
   "source": [
    "Obtención de la acción a partir de la tabla Q"
   ]
  },
  {
   "cell_type": "code",
   "execution_count": null,
   "metadata": {},
   "outputs": [],
   "source": [
    "def optimal_policy(state, Q):\n",
    "    action = np.argmax(Q[state])\n",
    "    return action\n",
    "\n",
    "# es la acción que maximiza el valor de Q para un estado dado\n",
    "# vamos a tener 500 observaciones, cada una con 6 acciones posibles \n",
    "# (norte, sur, este, oeste, recoger, dejar)\n",
    "# para cada observación, vamos a tener el Q con las 6 acciones posibles\n",
    "# entonces agarramos el máximo de las 6 acciones posibles para cada observación"
   ]
  },
  {
   "cell_type": "markdown",
   "metadata": {},
   "source": [
    "Epsilon-Greedy Policy"
   ]
  },
  {
   "cell_type": "code",
   "execution_count": null,
   "metadata": {},
   "outputs": [],
   "source": [
    "def epsilon_greedy_policy(state, Q, epsilon=0.1):\n",
    "    explore = np.random.binomial(1, epsilon)\n",
    "    if explore:\n",
    "        action = env.action_space.sample()\n",
    "        print('explore')\n",
    "    else:\n",
    "        action = np.argmax(Q[state])\n",
    "        print('exploit')\n",
    "        \n",
    "    return action\n",
    "\n",
    "# con cierta probabilidad exploramos y con cierta probabilidad explotamos\n",
    "# si exploramos, tomamos una acción aleatoria\n",
    "# si explotamos, tomamos la acción que maximiza el valor de Q para ese estado (lo mismo que optimal_policy)"
   ]
  },
  {
   "cell_type": "markdown",
   "metadata": {},
   "source": [
    "Imprimir imagen del ambiente"
   ]
  },
  {
   "cell_type": "code",
   "execution_count": 1,
   "metadata": {},
   "outputs": [],
   "source": [
    "def imgRender():\n",
    "    img = env.render()\n",
    "    plt.imshow(img)\n",
    "    plt.axis('off')\n",
    "    plt.show()"
   ]
  },
  {
   "cell_type": "markdown",
   "metadata": {},
   "source": [
    "Función de entrenamiento"
   ]
  },
  {
   "cell_type": "code",
   "execution_count": null,
   "metadata": {},
   "outputs": [],
   "source": [
    "def train(env, Q, alpha=0.1, gamma=0.9, epsilon=0.1, episodes=10):\n",
    "    for i in range(episodes):\n",
    "        obs,_ = env.reset()\n",
    "        print(obs)\n",
    "        done = False\n",
    "        total_reward = 0\n",
    "        step_count = 0\n",
    "        while not done:\n",
    "            state = obs\n",
    "            action = epsilon_greedy_policy(state, Q, epsilon)\n",
    "            obs, reward, done, _, _ = env.step(action)\n",
    "            total_reward += reward\n",
    "            step_count += 1\n",
    "            Q[state, action] = Q[state, action] + alpha * (reward + gamma * np.max(Q[obs]) - Q[state, action])\n",
    "\n",
    "        wandb.log({\"total_reward\": total_reward, \"avg_q_value\": np.mean(Q)})\n",
    "        \n",
    "        print('total_reward', total_reward)\n",
    "\n",
    "# para probar el agente se usa optimal_policy, el epsilon_greedy_policy es solo para entrenar\n",
    "# el objetivo es primero entrenar y después probar."
   ]
  },
  {
   "cell_type": "markdown",
   "metadata": {},
   "source": [
    "Registro con Wandb"
   ]
  },
  {
   "cell_type": "code",
   "execution_count": null,
   "metadata": {},
   "outputs": [],
   "source": [
    "wandb.login()"
   ]
  },
  {
   "cell_type": "markdown",
   "metadata": {},
   "source": [
    "Ejecución individual"
   ]
  },
  {
   "cell_type": "code",
   "execution_count": null,
   "metadata": {},
   "outputs": [],
   "source": [
    "wandb.init(\n",
    "    project=\"taxi\",\n",
    "\n",
    "    config={\n",
    "    \"alpha\": 0.5,\n",
    "    \"gamma\": 0.9,\n",
    "    \"epsilon\": 0.1,\n",
    "    \"epochs\": 5000,\n",
    "    }\n",
    ")\n",
    "\n",
    "train(env, Q, wandb.config.alpha, wandb.config.gamma, wandb.config.epsilon, wandb.config.epochs)\n",
    "\n",
    "wandb.finish()"
   ]
  },
  {
   "cell_type": "markdown",
   "metadata": {},
   "source": [
    "Ejecución múltiple con sweep"
   ]
  },
  {
   "cell_type": "code",
   "execution_count": null,
   "metadata": {},
   "outputs": [],
   "source": [
    "sweep_config = {\n",
    "    'method': 'grid',\n",
    "    'metric': {\n",
    "        'name': 'reward',\n",
    "        'goal': 'maximize'\n",
    "    },\n",
    "    'parameters': {\n",
    "        'alpha': {\n",
    "            'values': [0.1, 0.3, 0.5]\n",
    "        },\n",
    "        'gamma': {\n",
    "            'values': [0.8, 0.9, 1.0]\n",
    "        },\n",
    "        'epsilon': {\n",
    "            'values': [0.1, 0.5]\n",
    "        },\n",
    "        'epochs': {\n",
    "            'values': [5000, 10000]\n",
    "        }\n",
    "    }\n",
    "}\n",
    "\n",
    "sweep_id = wandb.sweep(sweep_config, project=\"taxi\")\n",
    "\n",
    "def train_sweep():\n",
    "    wandb.init()\n",
    "    \n",
    "    config = wandb.config\n",
    "    \n",
    "    train(env, Q, config.alpha, config.gamma, config.epsilon, config.epochs)\n",
    "    \n",
    "    wandb.finish()\n",
    "\n",
    "wandb.agent(sweep_id, function=train_sweep)\n"
   ]
  },
  {
   "cell_type": "markdown",
   "metadata": {},
   "source": [
    "Guardar modelo entrenado"
   ]
  },
  {
   "cell_type": "code",
   "execution_count": null,
   "metadata": {},
   "outputs": [],
   "source": [
    "manager = ModelManager()\n",
    "manager.save_model('model', Q)\n",
    "\n",
    "print(\"Modelo guardado en 'modelo.pkl'\")"
   ]
  },
  {
   "cell_type": "markdown",
   "metadata": {},
   "source": [
    "Cargar modelo entrenado"
   ]
  },
  {
   "cell_type": "code",
   "execution_count": null,
   "metadata": {},
   "outputs": [],
   "source": [
    "manager = ModelManager()\n",
    "model = manager.load_model('taxi')"
   ]
  },
  {
   "cell_type": "markdown",
   "metadata": {},
   "source": [
    "Probar el modelo cargado"
   ]
  },
  {
   "cell_type": "code",
   "execution_count": null,
   "metadata": {},
   "outputs": [],
   "source": [
    "obs,_ = env.reset()\n",
    "done = False\n",
    "while not done:\n",
    "    state = obs\n",
    "    action = optimal_policy(state, model)\n",
    "    obs, reward, done, _, _ = env.step(action)\n",
    "    imgRender()"
   ]
  },
  {
   "cell_type": "markdown",
   "metadata": {},
   "source": [
    "Grabar video"
   ]
  },
  {
   "cell_type": "code",
   "execution_count": null,
   "metadata": {},
   "outputs": [],
   "source": [
    "manager = ModelManager()\n",
    "Q = manager.load_model('taxi')\n",
    "\n",
    "def save_video(env, Q, video_name, num_episodes=1, fps=10):\n",
    "    frames = []\n",
    "\n",
    "    for _ in range(num_episodes):\n",
    "        obs, _ = env.reset()\n",
    "        done = False\n",
    "        while not done:\n",
    "            state = obs\n",
    "            frames.append(env.render())\n",
    "            action = optimal_policy(state, Q)\n",
    "            obs, reward, done, _, _ = env.step(action)\n",
    "\n",
    "    # Guardar los frames como un video\n",
    "    imageio.mimsave(video_name, frames, fps=fps)\n"
   ]
  },
  {
   "cell_type": "code",
   "execution_count": null,
   "metadata": {},
   "outputs": [],
   "source": [
    "env = TaxiEnvExtended()\n",
    "\n",
    "save_video(env, Q, 'taxi_env_video.mp4', num_episodes=10, fps=5)"
   ]
  },
  {
   "cell_type": "markdown",
   "metadata": {},
   "source": [
    "Cargar video a Wandb"
   ]
  },
  {
   "cell_type": "code",
   "execution_count": null,
   "metadata": {},
   "outputs": [],
   "source": [
    "wandb.init(project='taxi')\n",
    "\n",
    "video_name = 'taxi_env_video.mp4'\n",
    "\n",
    "wandb.log({\"Taxi execution (10 runs)\": wandb.Video(video_name, fps=10, format=\"mp4\")})\n",
    "\n",
    "wandb.finish()\n"
   ]
  }
 ],
 "metadata": {
  "kernelspec": {
   "display_name": "Python 3",
   "language": "python",
   "name": "python3"
  },
  "language_info": {
   "codemirror_mode": {
    "name": "ipython",
    "version": 3
   },
   "file_extension": ".py",
   "mimetype": "text/x-python",
   "name": "python",
   "nbconvert_exporter": "python",
   "pygments_lexer": "ipython3",
   "version": "3.12.2"
  },
  "orig_nbformat": 4
 },
 "nbformat": 4,
 "nbformat_minor": 2
}
